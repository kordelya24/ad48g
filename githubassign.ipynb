{
  "metadata": {
    "language_info": {
      "name": "R",
      "codemirror_mode": "r",
      "pygments_lexer": "r",
      "mimetype": "text/x-r-source",
      "file_extension": ".r",
      "version": "4.2.1"
    },
    "kernelspec": {
      "name": "ir",
      "display_name": "R",
      "language": "R"
    }
  },
  "nbformat_minor": 5,
  "nbformat": 4,
  "cells": [
    {
      "cell_type": "code",
      "source": "library(data.table)\nlibrary(ggplot2)",
      "metadata": {
        "trusted": true
      },
      "execution_count": 1,
      "outputs": [],
      "id": "6b9f97c1-1aa1-4963-af28-a6ec3be0128a"
    },
    {
      "cell_type": "code",
      "source": "data <- as.data.table(midwest)",
      "metadata": {
        "trusted": true
      },
      "execution_count": 2,
      "outputs": [],
      "id": "acdeffd2-f4db-4a05-bb3f-d066c2b754ea"
    },
    {
      "cell_type": "code",
      "source": "head(data)",
      "metadata": {
        "trusted": true
      },
      "execution_count": 3,
      "outputs": [
        {
          "output_type": "display_data",
          "data": {
            "text/html": "<table class=\"dataframe\">\n<caption>A data.table: 6 × 28</caption>\n<thead>\n\t<tr><th scope=col>PID</th><th scope=col>county</th><th scope=col>state</th><th scope=col>area</th><th scope=col>poptotal</th><th scope=col>popdensity</th><th scope=col>popwhite</th><th scope=col>popblack</th><th scope=col>popamerindian</th><th scope=col>popasian</th><th scope=col>⋯</th><th scope=col>percollege</th><th scope=col>percprof</th><th scope=col>poppovertyknown</th><th scope=col>percpovertyknown</th><th scope=col>percbelowpoverty</th><th scope=col>percchildbelowpovert</th><th scope=col>percadultpoverty</th><th scope=col>percelderlypoverty</th><th scope=col>inmetro</th><th scope=col>category</th></tr>\n\t<tr><th scope=col>&lt;int&gt;</th><th scope=col>&lt;chr&gt;</th><th scope=col>&lt;chr&gt;</th><th scope=col>&lt;dbl&gt;</th><th scope=col>&lt;int&gt;</th><th scope=col>&lt;dbl&gt;</th><th scope=col>&lt;int&gt;</th><th scope=col>&lt;int&gt;</th><th scope=col>&lt;int&gt;</th><th scope=col>&lt;int&gt;</th><th scope=col>⋯</th><th scope=col>&lt;dbl&gt;</th><th scope=col>&lt;dbl&gt;</th><th scope=col>&lt;int&gt;</th><th scope=col>&lt;dbl&gt;</th><th scope=col>&lt;dbl&gt;</th><th scope=col>&lt;dbl&gt;</th><th scope=col>&lt;dbl&gt;</th><th scope=col>&lt;dbl&gt;</th><th scope=col>&lt;int&gt;</th><th scope=col>&lt;chr&gt;</th></tr>\n</thead>\n<tbody>\n\t<tr><td>561</td><td>ADAMS    </td><td>IL</td><td>0.052</td><td>66090</td><td>1270.9615</td><td>63917</td><td>1702</td><td>98</td><td>249</td><td>⋯</td><td>19.63139</td><td>4.355859</td><td>63628</td><td>96.27478</td><td>13.151443</td><td>18.01172</td><td>11.009776</td><td>12.443812</td><td>0</td><td>AAR</td></tr>\n\t<tr><td>562</td><td>ALEXANDER</td><td>IL</td><td>0.014</td><td>10626</td><td> 759.0000</td><td> 7054</td><td>3496</td><td>19</td><td> 48</td><td>⋯</td><td>11.24331</td><td>2.870315</td><td>10529</td><td>99.08714</td><td>32.244278</td><td>45.82651</td><td>27.385647</td><td>25.228976</td><td>0</td><td>LHR</td></tr>\n\t<tr><td>563</td><td>BOND     </td><td>IL</td><td>0.022</td><td>14991</td><td> 681.4091</td><td>14477</td><td> 429</td><td>35</td><td> 16</td><td>⋯</td><td>17.03382</td><td>4.488572</td><td>14235</td><td>94.95697</td><td>12.068844</td><td>14.03606</td><td>10.852090</td><td>12.697410</td><td>0</td><td>AAR</td></tr>\n\t<tr><td>564</td><td>BOONE    </td><td>IL</td><td>0.017</td><td>30806</td><td>1812.1176</td><td>29344</td><td> 127</td><td>46</td><td>150</td><td>⋯</td><td>17.27895</td><td>4.197800</td><td>30337</td><td>98.47757</td><td> 7.209019</td><td>11.17954</td><td> 5.536013</td><td> 6.217047</td><td>1</td><td>ALU</td></tr>\n\t<tr><td>565</td><td>BROWN    </td><td>IL</td><td>0.018</td><td> 5836</td><td> 324.2222</td><td> 5264</td><td> 547</td><td>14</td><td>  5</td><td>⋯</td><td>14.47600</td><td>3.367680</td><td> 4815</td><td>82.50514</td><td>13.520249</td><td>13.02289</td><td>11.143211</td><td>19.200000</td><td>0</td><td>AAR</td></tr>\n\t<tr><td>566</td><td>BUREAU   </td><td>IL</td><td>0.050</td><td>35688</td><td> 713.7600</td><td>35157</td><td>  50</td><td>65</td><td>195</td><td>⋯</td><td>18.90462</td><td>3.275891</td><td>35107</td><td>98.37200</td><td>10.399635</td><td>14.15882</td><td> 8.179287</td><td>11.008586</td><td>0</td><td>AAR</td></tr>\n</tbody>\n</table>\n",
            "text/markdown": "\nA data.table: 6 × 28\n\n| PID &lt;int&gt; | county &lt;chr&gt; | state &lt;chr&gt; | area &lt;dbl&gt; | poptotal &lt;int&gt; | popdensity &lt;dbl&gt; | popwhite &lt;int&gt; | popblack &lt;int&gt; | popamerindian &lt;int&gt; | popasian &lt;int&gt; | ⋯ ⋯ | percollege &lt;dbl&gt; | percprof &lt;dbl&gt; | poppovertyknown &lt;int&gt; | percpovertyknown &lt;dbl&gt; | percbelowpoverty &lt;dbl&gt; | percchildbelowpovert &lt;dbl&gt; | percadultpoverty &lt;dbl&gt; | percelderlypoverty &lt;dbl&gt; | inmetro &lt;int&gt; | category &lt;chr&gt; |\n|---|---|---|---|---|---|---|---|---|---|---|---|---|---|---|---|---|---|---|---|---|\n| 561 | ADAMS     | IL | 0.052 | 66090 | 1270.9615 | 63917 | 1702 | 98 | 249 | ⋯ | 19.63139 | 4.355859 | 63628 | 96.27478 | 13.151443 | 18.01172 | 11.009776 | 12.443812 | 0 | AAR |\n| 562 | ALEXANDER | IL | 0.014 | 10626 |  759.0000 |  7054 | 3496 | 19 |  48 | ⋯ | 11.24331 | 2.870315 | 10529 | 99.08714 | 32.244278 | 45.82651 | 27.385647 | 25.228976 | 0 | LHR |\n| 563 | BOND      | IL | 0.022 | 14991 |  681.4091 | 14477 |  429 | 35 |  16 | ⋯ | 17.03382 | 4.488572 | 14235 | 94.95697 | 12.068844 | 14.03606 | 10.852090 | 12.697410 | 0 | AAR |\n| 564 | BOONE     | IL | 0.017 | 30806 | 1812.1176 | 29344 |  127 | 46 | 150 | ⋯ | 17.27895 | 4.197800 | 30337 | 98.47757 |  7.209019 | 11.17954 |  5.536013 |  6.217047 | 1 | ALU |\n| 565 | BROWN     | IL | 0.018 |  5836 |  324.2222 |  5264 |  547 | 14 |   5 | ⋯ | 14.47600 | 3.367680 |  4815 | 82.50514 | 13.520249 | 13.02289 | 11.143211 | 19.200000 | 0 | AAR |\n| 566 | BUREAU    | IL | 0.050 | 35688 |  713.7600 | 35157 |   50 | 65 | 195 | ⋯ | 18.90462 | 3.275891 | 35107 | 98.37200 | 10.399635 | 14.15882 |  8.179287 | 11.008586 | 0 | AAR |\n\n",
            "text/latex": "A data.table: 6 × 28\n\\begin{tabular}{lllllllllllllllllllll}\n PID & county & state & area & poptotal & popdensity & popwhite & popblack & popamerindian & popasian & ⋯ & percollege & percprof & poppovertyknown & percpovertyknown & percbelowpoverty & percchildbelowpovert & percadultpoverty & percelderlypoverty & inmetro & category\\\\\n <int> & <chr> & <chr> & <dbl> & <int> & <dbl> & <int> & <int> & <int> & <int> & ⋯ & <dbl> & <dbl> & <int> & <dbl> & <dbl> & <dbl> & <dbl> & <dbl> & <int> & <chr>\\\\\n\\hline\n\t 561 & ADAMS     & IL & 0.052 & 66090 & 1270.9615 & 63917 & 1702 & 98 & 249 & ⋯ & 19.63139 & 4.355859 & 63628 & 96.27478 & 13.151443 & 18.01172 & 11.009776 & 12.443812 & 0 & AAR\\\\\n\t 562 & ALEXANDER & IL & 0.014 & 10626 &  759.0000 &  7054 & 3496 & 19 &  48 & ⋯ & 11.24331 & 2.870315 & 10529 & 99.08714 & 32.244278 & 45.82651 & 27.385647 & 25.228976 & 0 & LHR\\\\\n\t 563 & BOND      & IL & 0.022 & 14991 &  681.4091 & 14477 &  429 & 35 &  16 & ⋯ & 17.03382 & 4.488572 & 14235 & 94.95697 & 12.068844 & 14.03606 & 10.852090 & 12.697410 & 0 & AAR\\\\\n\t 564 & BOONE     & IL & 0.017 & 30806 & 1812.1176 & 29344 &  127 & 46 & 150 & ⋯ & 17.27895 & 4.197800 & 30337 & 98.47757 &  7.209019 & 11.17954 &  5.536013 &  6.217047 & 1 & ALU\\\\\n\t 565 & BROWN     & IL & 0.018 &  5836 &  324.2222 &  5264 &  547 & 14 &   5 & ⋯ & 14.47600 & 3.367680 &  4815 & 82.50514 & 13.520249 & 13.02289 & 11.143211 & 19.200000 & 0 & AAR\\\\\n\t 566 & BUREAU    & IL & 0.050 & 35688 &  713.7600 & 35157 &   50 & 65 & 195 & ⋯ & 18.90462 & 3.275891 & 35107 & 98.37200 & 10.399635 & 14.15882 &  8.179287 & 11.008586 & 0 & AAR\\\\\n\\end{tabular}\n",
            "text/plain": "  PID county    state area  poptotal popdensity popwhite popblack popamerindian\n1 561 ADAMS     IL    0.052 66090    1270.9615  63917    1702     98           \n2 562 ALEXANDER IL    0.014 10626     759.0000   7054    3496     19           \n3 563 BOND      IL    0.022 14991     681.4091  14477     429     35           \n4 564 BOONE     IL    0.017 30806    1812.1176  29344     127     46           \n5 565 BROWN     IL    0.018  5836     324.2222   5264     547     14           \n6 566 BUREAU    IL    0.050 35688     713.7600  35157      50     65           \n  popasian ⋯ percollege percprof poppovertyknown percpovertyknown\n1 249      ⋯ 19.63139   4.355859 63628           96.27478        \n2  48      ⋯ 11.24331   2.870315 10529           99.08714        \n3  16      ⋯ 17.03382   4.488572 14235           94.95697        \n4 150      ⋯ 17.27895   4.197800 30337           98.47757        \n5   5      ⋯ 14.47600   3.367680  4815           82.50514        \n6 195      ⋯ 18.90462   3.275891 35107           98.37200        \n  percbelowpoverty percchildbelowpovert percadultpoverty percelderlypoverty\n1 13.151443        18.01172             11.009776        12.443812         \n2 32.244278        45.82651             27.385647        25.228976         \n3 12.068844        14.03606             10.852090        12.697410         \n4  7.209019        11.17954              5.536013         6.217047         \n5 13.520249        13.02289             11.143211        19.200000         \n6 10.399635        14.15882              8.179287        11.008586         \n  inmetro category\n1 0       AAR     \n2 0       LHR     \n3 0       AAR     \n4 1       ALU     \n5 0       AAR     \n6 0       AAR     "
          },
          "metadata": {}
        }
      ],
      "id": "23e3aff6-5f66-45d6-a06f-7a51329cbfa5"
    },
    {
      "cell_type": "markdown",
      "source": "operation for filtering rows of the dataset",
      "metadata": {},
      "id": "1cdc927a-fc74-4423-a2fe-db27d96392d6"
    },
    {
      "cell_type": "code",
      "source": "i_data <- data[area < 0.020 & percollege > 10]",
      "metadata": {
        "trusted": true
      },
      "execution_count": 4,
      "outputs": [],
      "id": "393a2231-1570-40d2-bce8-5e8bfc6f7bf1"
    },
    {
      "cell_type": "markdown",
      "source": "operation by selecting and/or calculating more than one columns",
      "metadata": {},
      "id": "13d9d893-e2cc-4b5b-bcb1-b4857e392222"
    },
    {
      "cell_type": "code",
      "source": "j_data <- data[, .(poptotal, College_Percentage = percollege / 100)]",
      "metadata": {
        "trusted": true
      },
      "execution_count": 5,
      "outputs": [],
      "id": "ae1ffad2-3727-4b80-b17d-7433c4681d88"
    },
    {
      "cell_type": "markdown",
      "source": "assigning a calculated new column",
      "metadata": {},
      "id": "8ba8d0c5-1224-4bda-9bd2-5d295ad137a9"
    },
    {
      "cell_type": "code",
      "source": "data[, College_Percentage := percollege / 100]",
      "metadata": {
        "trusted": true,
        "tags": []
      },
      "execution_count": 6,
      "outputs": [],
      "id": "81b4e56a-5b83-4c9e-89bb-b4da12c9f659"
    },
    {
      "cell_type": "code",
      "source": "head(data)",
      "metadata": {
        "trusted": true,
        "tags": []
      },
      "execution_count": 7,
      "outputs": [
        {
          "output_type": "display_data",
          "data": {
            "text/html": "<table class=\"dataframe\">\n<caption>A data.table: 6 × 29</caption>\n<thead>\n\t<tr><th scope=col>PID</th><th scope=col>county</th><th scope=col>state</th><th scope=col>area</th><th scope=col>poptotal</th><th scope=col>popdensity</th><th scope=col>popwhite</th><th scope=col>popblack</th><th scope=col>popamerindian</th><th scope=col>popasian</th><th scope=col>⋯</th><th scope=col>percprof</th><th scope=col>poppovertyknown</th><th scope=col>percpovertyknown</th><th scope=col>percbelowpoverty</th><th scope=col>percchildbelowpovert</th><th scope=col>percadultpoverty</th><th scope=col>percelderlypoverty</th><th scope=col>inmetro</th><th scope=col>category</th><th scope=col>College_Percentage</th></tr>\n\t<tr><th scope=col>&lt;int&gt;</th><th scope=col>&lt;chr&gt;</th><th scope=col>&lt;chr&gt;</th><th scope=col>&lt;dbl&gt;</th><th scope=col>&lt;int&gt;</th><th scope=col>&lt;dbl&gt;</th><th scope=col>&lt;int&gt;</th><th scope=col>&lt;int&gt;</th><th scope=col>&lt;int&gt;</th><th scope=col>&lt;int&gt;</th><th scope=col>⋯</th><th scope=col>&lt;dbl&gt;</th><th scope=col>&lt;int&gt;</th><th scope=col>&lt;dbl&gt;</th><th scope=col>&lt;dbl&gt;</th><th scope=col>&lt;dbl&gt;</th><th scope=col>&lt;dbl&gt;</th><th scope=col>&lt;dbl&gt;</th><th scope=col>&lt;int&gt;</th><th scope=col>&lt;chr&gt;</th><th scope=col>&lt;dbl&gt;</th></tr>\n</thead>\n<tbody>\n\t<tr><td>561</td><td>ADAMS    </td><td>IL</td><td>0.052</td><td>66090</td><td>1270.9615</td><td>63917</td><td>1702</td><td>98</td><td>249</td><td>⋯</td><td>4.355859</td><td>63628</td><td>96.27478</td><td>13.151443</td><td>18.01172</td><td>11.009776</td><td>12.443812</td><td>0</td><td>AAR</td><td>0.1963139</td></tr>\n\t<tr><td>562</td><td>ALEXANDER</td><td>IL</td><td>0.014</td><td>10626</td><td> 759.0000</td><td> 7054</td><td>3496</td><td>19</td><td> 48</td><td>⋯</td><td>2.870315</td><td>10529</td><td>99.08714</td><td>32.244278</td><td>45.82651</td><td>27.385647</td><td>25.228976</td><td>0</td><td>LHR</td><td>0.1124331</td></tr>\n\t<tr><td>563</td><td>BOND     </td><td>IL</td><td>0.022</td><td>14991</td><td> 681.4091</td><td>14477</td><td> 429</td><td>35</td><td> 16</td><td>⋯</td><td>4.488572</td><td>14235</td><td>94.95697</td><td>12.068844</td><td>14.03606</td><td>10.852090</td><td>12.697410</td><td>0</td><td>AAR</td><td>0.1703382</td></tr>\n\t<tr><td>564</td><td>BOONE    </td><td>IL</td><td>0.017</td><td>30806</td><td>1812.1176</td><td>29344</td><td> 127</td><td>46</td><td>150</td><td>⋯</td><td>4.197800</td><td>30337</td><td>98.47757</td><td> 7.209019</td><td>11.17954</td><td> 5.536013</td><td> 6.217047</td><td>1</td><td>ALU</td><td>0.1727895</td></tr>\n\t<tr><td>565</td><td>BROWN    </td><td>IL</td><td>0.018</td><td> 5836</td><td> 324.2222</td><td> 5264</td><td> 547</td><td>14</td><td>  5</td><td>⋯</td><td>3.367680</td><td> 4815</td><td>82.50514</td><td>13.520249</td><td>13.02289</td><td>11.143211</td><td>19.200000</td><td>0</td><td>AAR</td><td>0.1447600</td></tr>\n\t<tr><td>566</td><td>BUREAU   </td><td>IL</td><td>0.050</td><td>35688</td><td> 713.7600</td><td>35157</td><td>  50</td><td>65</td><td>195</td><td>⋯</td><td>3.275891</td><td>35107</td><td>98.37200</td><td>10.399635</td><td>14.15882</td><td> 8.179287</td><td>11.008586</td><td>0</td><td>AAR</td><td>0.1890462</td></tr>\n</tbody>\n</table>\n",
            "text/markdown": "\nA data.table: 6 × 29\n\n| PID &lt;int&gt; | county &lt;chr&gt; | state &lt;chr&gt; | area &lt;dbl&gt; | poptotal &lt;int&gt; | popdensity &lt;dbl&gt; | popwhite &lt;int&gt; | popblack &lt;int&gt; | popamerindian &lt;int&gt; | popasian &lt;int&gt; | ⋯ ⋯ | percprof &lt;dbl&gt; | poppovertyknown &lt;int&gt; | percpovertyknown &lt;dbl&gt; | percbelowpoverty &lt;dbl&gt; | percchildbelowpovert &lt;dbl&gt; | percadultpoverty &lt;dbl&gt; | percelderlypoverty &lt;dbl&gt; | inmetro &lt;int&gt; | category &lt;chr&gt; | College_Percentage &lt;dbl&gt; |\n|---|---|---|---|---|---|---|---|---|---|---|---|---|---|---|---|---|---|---|---|---|\n| 561 | ADAMS     | IL | 0.052 | 66090 | 1270.9615 | 63917 | 1702 | 98 | 249 | ⋯ | 4.355859 | 63628 | 96.27478 | 13.151443 | 18.01172 | 11.009776 | 12.443812 | 0 | AAR | 0.1963139 |\n| 562 | ALEXANDER | IL | 0.014 | 10626 |  759.0000 |  7054 | 3496 | 19 |  48 | ⋯ | 2.870315 | 10529 | 99.08714 | 32.244278 | 45.82651 | 27.385647 | 25.228976 | 0 | LHR | 0.1124331 |\n| 563 | BOND      | IL | 0.022 | 14991 |  681.4091 | 14477 |  429 | 35 |  16 | ⋯ | 4.488572 | 14235 | 94.95697 | 12.068844 | 14.03606 | 10.852090 | 12.697410 | 0 | AAR | 0.1703382 |\n| 564 | BOONE     | IL | 0.017 | 30806 | 1812.1176 | 29344 |  127 | 46 | 150 | ⋯ | 4.197800 | 30337 | 98.47757 |  7.209019 | 11.17954 |  5.536013 |  6.217047 | 1 | ALU | 0.1727895 |\n| 565 | BROWN     | IL | 0.018 |  5836 |  324.2222 |  5264 |  547 | 14 |   5 | ⋯ | 3.367680 |  4815 | 82.50514 | 13.520249 | 13.02289 | 11.143211 | 19.200000 | 0 | AAR | 0.1447600 |\n| 566 | BUREAU    | IL | 0.050 | 35688 |  713.7600 | 35157 |   50 | 65 | 195 | ⋯ | 3.275891 | 35107 | 98.37200 | 10.399635 | 14.15882 |  8.179287 | 11.008586 | 0 | AAR | 0.1890462 |\n\n",
            "text/latex": "A data.table: 6 × 29\n\\begin{tabular}{lllllllllllllllllllll}\n PID & county & state & area & poptotal & popdensity & popwhite & popblack & popamerindian & popasian & ⋯ & percprof & poppovertyknown & percpovertyknown & percbelowpoverty & percchildbelowpovert & percadultpoverty & percelderlypoverty & inmetro & category & College\\_Percentage\\\\\n <int> & <chr> & <chr> & <dbl> & <int> & <dbl> & <int> & <int> & <int> & <int> & ⋯ & <dbl> & <int> & <dbl> & <dbl> & <dbl> & <dbl> & <dbl> & <int> & <chr> & <dbl>\\\\\n\\hline\n\t 561 & ADAMS     & IL & 0.052 & 66090 & 1270.9615 & 63917 & 1702 & 98 & 249 & ⋯ & 4.355859 & 63628 & 96.27478 & 13.151443 & 18.01172 & 11.009776 & 12.443812 & 0 & AAR & 0.1963139\\\\\n\t 562 & ALEXANDER & IL & 0.014 & 10626 &  759.0000 &  7054 & 3496 & 19 &  48 & ⋯ & 2.870315 & 10529 & 99.08714 & 32.244278 & 45.82651 & 27.385647 & 25.228976 & 0 & LHR & 0.1124331\\\\\n\t 563 & BOND      & IL & 0.022 & 14991 &  681.4091 & 14477 &  429 & 35 &  16 & ⋯ & 4.488572 & 14235 & 94.95697 & 12.068844 & 14.03606 & 10.852090 & 12.697410 & 0 & AAR & 0.1703382\\\\\n\t 564 & BOONE     & IL & 0.017 & 30806 & 1812.1176 & 29344 &  127 & 46 & 150 & ⋯ & 4.197800 & 30337 & 98.47757 &  7.209019 & 11.17954 &  5.536013 &  6.217047 & 1 & ALU & 0.1727895\\\\\n\t 565 & BROWN     & IL & 0.018 &  5836 &  324.2222 &  5264 &  547 & 14 &   5 & ⋯ & 3.367680 &  4815 & 82.50514 & 13.520249 & 13.02289 & 11.143211 & 19.200000 & 0 & AAR & 0.1447600\\\\\n\t 566 & BUREAU    & IL & 0.050 & 35688 &  713.7600 & 35157 &   50 & 65 & 195 & ⋯ & 3.275891 & 35107 & 98.37200 & 10.399635 & 14.15882 &  8.179287 & 11.008586 & 0 & AAR & 0.1890462\\\\\n\\end{tabular}\n",
            "text/plain": "  PID county    state area  poptotal popdensity popwhite popblack popamerindian\n1 561 ADAMS     IL    0.052 66090    1270.9615  63917    1702     98           \n2 562 ALEXANDER IL    0.014 10626     759.0000   7054    3496     19           \n3 563 BOND      IL    0.022 14991     681.4091  14477     429     35           \n4 564 BOONE     IL    0.017 30806    1812.1176  29344     127     46           \n5 565 BROWN     IL    0.018  5836     324.2222   5264     547     14           \n6 566 BUREAU    IL    0.050 35688     713.7600  35157      50     65           \n  popasian ⋯ percprof poppovertyknown percpovertyknown percbelowpoverty\n1 249      ⋯ 4.355859 63628           96.27478         13.151443       \n2  48      ⋯ 2.870315 10529           99.08714         32.244278       \n3  16      ⋯ 4.488572 14235           94.95697         12.068844       \n4 150      ⋯ 4.197800 30337           98.47757          7.209019       \n5   5      ⋯ 3.367680  4815           82.50514         13.520249       \n6 195      ⋯ 3.275891 35107           98.37200         10.399635       \n  percchildbelowpovert percadultpoverty percelderlypoverty inmetro category\n1 18.01172             11.009776        12.443812          0       AAR     \n2 45.82651             27.385647        25.228976          0       LHR     \n3 14.03606             10.852090        12.697410          0       AAR     \n4 11.17954              5.536013         6.217047          1       ALU     \n5 13.02289             11.143211        19.200000          0       AAR     \n6 14.15882              8.179287        11.008586          0       AAR     \n  College_Percentage\n1 0.1963139         \n2 0.1124331         \n3 0.1703382         \n4 0.1727895         \n5 0.1447600         \n6 0.1890462         "
          },
          "metadata": {}
        }
      ],
      "id": "0dc13a99-4373-4a4b-a26d-21642d5b75ab"
    },
    {
      "cell_type": "markdown",
      "source": "this operation calculates the mean of the poptotal column by state",
      "metadata": {},
      "id": "fc5fb2f2-cd31-432d-b42d-5d58bcf1c570"
    },
    {
      "cell_type": "code",
      "source": "summary <- data[, .(mean_population = mean(poptotal)), by = state]\n\nhead(summary)",
      "metadata": {
        "trusted": true,
        "tags": []
      },
      "execution_count": 8,
      "outputs": [],
      "id": "a02c22b3-c0f5-464a-b9b1-edb5b87013ba"
    },
    {
      "cell_type": "markdown",
      "source": "it calculates mean of poptotal instead of one value and converting long data to wide format",
      "metadata": {},
      "id": "aefa0b61-71d8-462d-b39f-2d8574b0e380"
    },
    {
      "cell_type": "code",
      "source": "cast <- dcast(data, state ~ category, value.var = \"poptotal\", fun.aggregate = mean)\n\ncast",
      "metadata": {
        "trusted": true,
        "tags": []
      },
      "execution_count": 13,
      "outputs": [
        {
          "output_type": "display_data",
          "data": {
            "text/html": "<table class=\"dataframe\">\n<caption>A data.table: 5 × 17</caption>\n<thead>\n\t<tr><th scope=col>state</th><th scope=col>AAR</th><th scope=col>AAU</th><th scope=col>AHR</th><th scope=col>AHU</th><th scope=col>ALR</th><th scope=col>ALU</th><th scope=col>HAR</th><th scope=col>HAU</th><th scope=col>HHR</th><th scope=col>HHU</th><th scope=col>HLR</th><th scope=col>HLU</th><th scope=col>LAR</th><th scope=col>LAU</th><th scope=col>LHR</th><th scope=col>LHU</th></tr>\n\t<tr><th scope=col>&lt;chr&gt;</th><th scope=col>&lt;dbl&gt;</th><th scope=col>&lt;dbl&gt;</th><th scope=col>&lt;dbl&gt;</th><th scope=col>&lt;dbl&gt;</th><th scope=col>&lt;dbl&gt;</th><th scope=col>&lt;dbl&gt;</th><th scope=col>&lt;dbl&gt;</th><th scope=col>&lt;dbl&gt;</th><th scope=col>&lt;dbl&gt;</th><th scope=col>&lt;dbl&gt;</th><th scope=col>&lt;dbl&gt;</th><th scope=col>&lt;dbl&gt;</th><th scope=col>&lt;dbl&gt;</th><th scope=col>&lt;dbl&gt;</th><th scope=col>&lt;dbl&gt;</th><th scope=col>&lt;dbl&gt;</th></tr>\n</thead>\n<tbody>\n\t<tr><td>IL</td><td>28101.63</td><td>551802.9</td><td>31538.67</td><td>    NaN</td><td>    NaN</td><td> 89798.60</td><td>     NaN</td><td>139630.8</td><td>35244</td><td>   NaN</td><td>15548</td><td>318450.67</td><td>16760.25</td><td>33944</td><td>14413.00</td><td>  NaN</td></tr>\n\t<tr><td>IN</td><td>31549.56</td><td>145443.9</td><td>     NaN</td><td>    NaN</td><td>35859.0</td><td> 49111.75</td><td>34436.00</td><td>215717.0</td><td>  NaN</td><td>108978</td><td>  NaN</td><td> 75755.43</td><td>19857.15</td><td> 5315</td><td> 9914.00</td><td>20991</td></tr>\n\t<tr><td>MI</td><td>28897.14</td><td>151249.8</td><td>27931.00</td><td>2111687</td><td>    NaN</td><td>452584.00</td><td>44181.75</td><td>272908.4</td><td>  NaN</td><td>   NaN</td><td>  NaN</td><td>337499.75</td><td>19210.00</td><td>  NaN</td><td>14083.71</td><td>  NaN</td></tr>\n\t<tr><td>OH</td><td>45822.12</td><td>247107.8</td><td>27376.40</td><td>    NaN</td><td>34572.6</td><td> 65664.00</td><td>     NaN</td><td>403812.3</td><td>  NaN</td><td>   NaN</td><td>65536</td><td>121477.75</td><td>30394.00</td><td>34966</td><td>36818.25</td><td>61834</td></tr>\n\t<tr><td>WI</td><td>30043.84</td><td>230216.9</td><td>14181.00</td><td>    NaN</td><td>72171.0</td><td> 69084.00</td><td>20150.00</td><td>152975.2</td><td>  NaN</td><td>   NaN</td><td>  NaN</td><td>132727.00</td><td>23664.50</td><td>  NaN</td><td> 6333.00</td><td>  NaN</td></tr>\n</tbody>\n</table>\n",
            "text/markdown": "\nA data.table: 5 × 17\n\n| state &lt;chr&gt; | AAR &lt;dbl&gt; | AAU &lt;dbl&gt; | AHR &lt;dbl&gt; | AHU &lt;dbl&gt; | ALR &lt;dbl&gt; | ALU &lt;dbl&gt; | HAR &lt;dbl&gt; | HAU &lt;dbl&gt; | HHR &lt;dbl&gt; | HHU &lt;dbl&gt; | HLR &lt;dbl&gt; | HLU &lt;dbl&gt; | LAR &lt;dbl&gt; | LAU &lt;dbl&gt; | LHR &lt;dbl&gt; | LHU &lt;dbl&gt; |\n|---|---|---|---|---|---|---|---|---|---|---|---|---|---|---|---|---|\n| IL | 28101.63 | 551802.9 | 31538.67 |     NaN |     NaN |  89798.60 |      NaN | 139630.8 | 35244 |    NaN | 15548 | 318450.67 | 16760.25 | 33944 | 14413.00 |   NaN |\n| IN | 31549.56 | 145443.9 |      NaN |     NaN | 35859.0 |  49111.75 | 34436.00 | 215717.0 |   NaN | 108978 |   NaN |  75755.43 | 19857.15 |  5315 |  9914.00 | 20991 |\n| MI | 28897.14 | 151249.8 | 27931.00 | 2111687 |     NaN | 452584.00 | 44181.75 | 272908.4 |   NaN |    NaN |   NaN | 337499.75 | 19210.00 |   NaN | 14083.71 |   NaN |\n| OH | 45822.12 | 247107.8 | 27376.40 |     NaN | 34572.6 |  65664.00 |      NaN | 403812.3 |   NaN |    NaN | 65536 | 121477.75 | 30394.00 | 34966 | 36818.25 | 61834 |\n| WI | 30043.84 | 230216.9 | 14181.00 |     NaN | 72171.0 |  69084.00 | 20150.00 | 152975.2 |   NaN |    NaN |   NaN | 132727.00 | 23664.50 |   NaN |  6333.00 |   NaN |\n\n",
            "text/latex": "A data.table: 5 × 17\n\\begin{tabular}{lllllllllllllllll}\n state & AAR & AAU & AHR & AHU & ALR & ALU & HAR & HAU & HHR & HHU & HLR & HLU & LAR & LAU & LHR & LHU\\\\\n <chr> & <dbl> & <dbl> & <dbl> & <dbl> & <dbl> & <dbl> & <dbl> & <dbl> & <dbl> & <dbl> & <dbl> & <dbl> & <dbl> & <dbl> & <dbl> & <dbl>\\\\\n\\hline\n\t IL & 28101.63 & 551802.9 & 31538.67 &     NaN &     NaN &  89798.60 &      NaN & 139630.8 & 35244 &    NaN & 15548 & 318450.67 & 16760.25 & 33944 & 14413.00 &   NaN\\\\\n\t IN & 31549.56 & 145443.9 &      NaN &     NaN & 35859.0 &  49111.75 & 34436.00 & 215717.0 &   NaN & 108978 &   NaN &  75755.43 & 19857.15 &  5315 &  9914.00 & 20991\\\\\n\t MI & 28897.14 & 151249.8 & 27931.00 & 2111687 &     NaN & 452584.00 & 44181.75 & 272908.4 &   NaN &    NaN &   NaN & 337499.75 & 19210.00 &   NaN & 14083.71 &   NaN\\\\\n\t OH & 45822.12 & 247107.8 & 27376.40 &     NaN & 34572.6 &  65664.00 &      NaN & 403812.3 &   NaN &    NaN & 65536 & 121477.75 & 30394.00 & 34966 & 36818.25 & 61834\\\\\n\t WI & 30043.84 & 230216.9 & 14181.00 &     NaN & 72171.0 &  69084.00 & 20150.00 & 152975.2 &   NaN &    NaN &   NaN & 132727.00 & 23664.50 &   NaN &  6333.00 &   NaN\\\\\n\\end{tabular}\n",
            "text/plain": "  state AAR      AAU      AHR      AHU     ALR     ALU       HAR      HAU     \n1 IL    28101.63 551802.9 31538.67     NaN     NaN  89798.60      NaN 139630.8\n2 IN    31549.56 145443.9      NaN     NaN 35859.0  49111.75 34436.00 215717.0\n3 MI    28897.14 151249.8 27931.00 2111687     NaN 452584.00 44181.75 272908.4\n4 OH    45822.12 247107.8 27376.40     NaN 34572.6  65664.00      NaN 403812.3\n5 WI    30043.84 230216.9 14181.00     NaN 72171.0  69084.00 20150.00 152975.2\n  HHR   HHU    HLR   HLU       LAR      LAU   LHR      LHU  \n1 35244    NaN 15548 318450.67 16760.25 33944 14413.00   NaN\n2   NaN 108978   NaN  75755.43 19857.15  5315  9914.00 20991\n3   NaN    NaN   NaN 337499.75 19210.00   NaN 14083.71   NaN\n4   NaN    NaN 65536 121477.75 30394.00 34966 36818.25 61834\n5   NaN    NaN   NaN 132727.00 23664.50   NaN  6333.00   NaN"
          },
          "metadata": {}
        }
      ],
      "id": "c19f51a0-4c97-4d63-a81d-fffaed0f39d3"
    },
    {
      "cell_type": "markdown",
      "source": "converting wide data back to long format keeping state variable as an identifier in the long format",
      "metadata": {},
      "id": "170b0174-32ec-45bc-9075-1687dd63ae3c"
    },
    {
      "cell_type": "code",
      "source": "melt <- melt(cast, id.vars = \"state\", variable.name = \"category\", value.name = \"mean_population\")\n\nmelt",
      "metadata": {
        "trusted": true,
        "tags": []
      },
      "execution_count": 14,
      "outputs": [
        {
          "output_type": "display_data",
          "data": {
            "text/html": "<table class=\"dataframe\">\n<caption>A data.table: 80 × 3</caption>\n<thead>\n\t<tr><th scope=col>state</th><th scope=col>category</th><th scope=col>mean_population</th></tr>\n\t<tr><th scope=col>&lt;chr&gt;</th><th scope=col>&lt;fct&gt;</th><th scope=col>&lt;dbl&gt;</th></tr>\n</thead>\n<tbody>\n\t<tr><td>IL</td><td>AAR</td><td>  28101.63</td></tr>\n\t<tr><td>IN</td><td>AAR</td><td>  31549.56</td></tr>\n\t<tr><td>MI</td><td>AAR</td><td>  28897.14</td></tr>\n\t<tr><td>OH</td><td>AAR</td><td>  45822.12</td></tr>\n\t<tr><td>WI</td><td>AAR</td><td>  30043.84</td></tr>\n\t<tr><td>IL</td><td>AAU</td><td> 551802.92</td></tr>\n\t<tr><td>IN</td><td>AAU</td><td> 145443.88</td></tr>\n\t<tr><td>MI</td><td>AAU</td><td> 151249.77</td></tr>\n\t<tr><td>OH</td><td>AAU</td><td> 247107.82</td></tr>\n\t<tr><td>WI</td><td>AAU</td><td> 230216.86</td></tr>\n\t<tr><td>IL</td><td>AHR</td><td>  31538.67</td></tr>\n\t<tr><td>IN</td><td>AHR</td><td>       NaN</td></tr>\n\t<tr><td>MI</td><td>AHR</td><td>  27931.00</td></tr>\n\t<tr><td>OH</td><td>AHR</td><td>  27376.40</td></tr>\n\t<tr><td>WI</td><td>AHR</td><td>  14181.00</td></tr>\n\t<tr><td>IL</td><td>AHU</td><td>       NaN</td></tr>\n\t<tr><td>IN</td><td>AHU</td><td>       NaN</td></tr>\n\t<tr><td>MI</td><td>AHU</td><td>2111687.00</td></tr>\n\t<tr><td>OH</td><td>AHU</td><td>       NaN</td></tr>\n\t<tr><td>WI</td><td>AHU</td><td>       NaN</td></tr>\n\t<tr><td>IL</td><td>ALR</td><td>       NaN</td></tr>\n\t<tr><td>IN</td><td>ALR</td><td>  35859.00</td></tr>\n\t<tr><td>MI</td><td>ALR</td><td>       NaN</td></tr>\n\t<tr><td>OH</td><td>ALR</td><td>  34572.60</td></tr>\n\t<tr><td>WI</td><td>ALR</td><td>  72171.00</td></tr>\n\t<tr><td>IL</td><td>ALU</td><td>  89798.60</td></tr>\n\t<tr><td>IN</td><td>ALU</td><td>  49111.75</td></tr>\n\t<tr><td>MI</td><td>ALU</td><td> 452584.00</td></tr>\n\t<tr><td>OH</td><td>ALU</td><td>  65664.00</td></tr>\n\t<tr><td>WI</td><td>ALU</td><td>  69084.00</td></tr>\n\t<tr><td>⋮</td><td>⋮</td><td>⋮</td></tr>\n\t<tr><td>IL</td><td>HLR</td><td> 15548.00</td></tr>\n\t<tr><td>IN</td><td>HLR</td><td>      NaN</td></tr>\n\t<tr><td>MI</td><td>HLR</td><td>      NaN</td></tr>\n\t<tr><td>OH</td><td>HLR</td><td> 65536.00</td></tr>\n\t<tr><td>WI</td><td>HLR</td><td>      NaN</td></tr>\n\t<tr><td>IL</td><td>HLU</td><td>318450.67</td></tr>\n\t<tr><td>IN</td><td>HLU</td><td> 75755.43</td></tr>\n\t<tr><td>MI</td><td>HLU</td><td>337499.75</td></tr>\n\t<tr><td>OH</td><td>HLU</td><td>121477.75</td></tr>\n\t<tr><td>WI</td><td>HLU</td><td>132727.00</td></tr>\n\t<tr><td>IL</td><td>LAR</td><td> 16760.25</td></tr>\n\t<tr><td>IN</td><td>LAR</td><td> 19857.15</td></tr>\n\t<tr><td>MI</td><td>LAR</td><td> 19210.00</td></tr>\n\t<tr><td>OH</td><td>LAR</td><td> 30394.00</td></tr>\n\t<tr><td>WI</td><td>LAR</td><td> 23664.50</td></tr>\n\t<tr><td>IL</td><td>LAU</td><td> 33944.00</td></tr>\n\t<tr><td>IN</td><td>LAU</td><td>  5315.00</td></tr>\n\t<tr><td>MI</td><td>LAU</td><td>      NaN</td></tr>\n\t<tr><td>OH</td><td>LAU</td><td> 34966.00</td></tr>\n\t<tr><td>WI</td><td>LAU</td><td>      NaN</td></tr>\n\t<tr><td>IL</td><td>LHR</td><td> 14413.00</td></tr>\n\t<tr><td>IN</td><td>LHR</td><td>  9914.00</td></tr>\n\t<tr><td>MI</td><td>LHR</td><td> 14083.71</td></tr>\n\t<tr><td>OH</td><td>LHR</td><td> 36818.25</td></tr>\n\t<tr><td>WI</td><td>LHR</td><td>  6333.00</td></tr>\n\t<tr><td>IL</td><td>LHU</td><td>      NaN</td></tr>\n\t<tr><td>IN</td><td>LHU</td><td> 20991.00</td></tr>\n\t<tr><td>MI</td><td>LHU</td><td>      NaN</td></tr>\n\t<tr><td>OH</td><td>LHU</td><td> 61834.00</td></tr>\n\t<tr><td>WI</td><td>LHU</td><td>      NaN</td></tr>\n</tbody>\n</table>\n",
            "text/markdown": "\nA data.table: 80 × 3\n\n| state &lt;chr&gt; | category &lt;fct&gt; | mean_population &lt;dbl&gt; |\n|---|---|---|\n| IL | AAR |   28101.63 |\n| IN | AAR |   31549.56 |\n| MI | AAR |   28897.14 |\n| OH | AAR |   45822.12 |\n| WI | AAR |   30043.84 |\n| IL | AAU |  551802.92 |\n| IN | AAU |  145443.88 |\n| MI | AAU |  151249.77 |\n| OH | AAU |  247107.82 |\n| WI | AAU |  230216.86 |\n| IL | AHR |   31538.67 |\n| IN | AHR |        NaN |\n| MI | AHR |   27931.00 |\n| OH | AHR |   27376.40 |\n| WI | AHR |   14181.00 |\n| IL | AHU |        NaN |\n| IN | AHU |        NaN |\n| MI | AHU | 2111687.00 |\n| OH | AHU |        NaN |\n| WI | AHU |        NaN |\n| IL | ALR |        NaN |\n| IN | ALR |   35859.00 |\n| MI | ALR |        NaN |\n| OH | ALR |   34572.60 |\n| WI | ALR |   72171.00 |\n| IL | ALU |   89798.60 |\n| IN | ALU |   49111.75 |\n| MI | ALU |  452584.00 |\n| OH | ALU |   65664.00 |\n| WI | ALU |   69084.00 |\n| ⋮ | ⋮ | ⋮ |\n| IL | HLR |  15548.00 |\n| IN | HLR |       NaN |\n| MI | HLR |       NaN |\n| OH | HLR |  65536.00 |\n| WI | HLR |       NaN |\n| IL | HLU | 318450.67 |\n| IN | HLU |  75755.43 |\n| MI | HLU | 337499.75 |\n| OH | HLU | 121477.75 |\n| WI | HLU | 132727.00 |\n| IL | LAR |  16760.25 |\n| IN | LAR |  19857.15 |\n| MI | LAR |  19210.00 |\n| OH | LAR |  30394.00 |\n| WI | LAR |  23664.50 |\n| IL | LAU |  33944.00 |\n| IN | LAU |   5315.00 |\n| MI | LAU |       NaN |\n| OH | LAU |  34966.00 |\n| WI | LAU |       NaN |\n| IL | LHR |  14413.00 |\n| IN | LHR |   9914.00 |\n| MI | LHR |  14083.71 |\n| OH | LHR |  36818.25 |\n| WI | LHR |   6333.00 |\n| IL | LHU |       NaN |\n| IN | LHU |  20991.00 |\n| MI | LHU |       NaN |\n| OH | LHU |  61834.00 |\n| WI | LHU |       NaN |\n\n",
            "text/latex": "A data.table: 80 × 3\n\\begin{tabular}{lll}\n state & category & mean\\_population\\\\\n <chr> & <fct> & <dbl>\\\\\n\\hline\n\t IL & AAR &   28101.63\\\\\n\t IN & AAR &   31549.56\\\\\n\t MI & AAR &   28897.14\\\\\n\t OH & AAR &   45822.12\\\\\n\t WI & AAR &   30043.84\\\\\n\t IL & AAU &  551802.92\\\\\n\t IN & AAU &  145443.88\\\\\n\t MI & AAU &  151249.77\\\\\n\t OH & AAU &  247107.82\\\\\n\t WI & AAU &  230216.86\\\\\n\t IL & AHR &   31538.67\\\\\n\t IN & AHR &        NaN\\\\\n\t MI & AHR &   27931.00\\\\\n\t OH & AHR &   27376.40\\\\\n\t WI & AHR &   14181.00\\\\\n\t IL & AHU &        NaN\\\\\n\t IN & AHU &        NaN\\\\\n\t MI & AHU & 2111687.00\\\\\n\t OH & AHU &        NaN\\\\\n\t WI & AHU &        NaN\\\\\n\t IL & ALR &        NaN\\\\\n\t IN & ALR &   35859.00\\\\\n\t MI & ALR &        NaN\\\\\n\t OH & ALR &   34572.60\\\\\n\t WI & ALR &   72171.00\\\\\n\t IL & ALU &   89798.60\\\\\n\t IN & ALU &   49111.75\\\\\n\t MI & ALU &  452584.00\\\\\n\t OH & ALU &   65664.00\\\\\n\t WI & ALU &   69084.00\\\\\n\t ⋮ & ⋮ & ⋮\\\\\n\t IL & HLR &  15548.00\\\\\n\t IN & HLR &       NaN\\\\\n\t MI & HLR &       NaN\\\\\n\t OH & HLR &  65536.00\\\\\n\t WI & HLR &       NaN\\\\\n\t IL & HLU & 318450.67\\\\\n\t IN & HLU &  75755.43\\\\\n\t MI & HLU & 337499.75\\\\\n\t OH & HLU & 121477.75\\\\\n\t WI & HLU & 132727.00\\\\\n\t IL & LAR &  16760.25\\\\\n\t IN & LAR &  19857.15\\\\\n\t MI & LAR &  19210.00\\\\\n\t OH & LAR &  30394.00\\\\\n\t WI & LAR &  23664.50\\\\\n\t IL & LAU &  33944.00\\\\\n\t IN & LAU &   5315.00\\\\\n\t MI & LAU &       NaN\\\\\n\t OH & LAU &  34966.00\\\\\n\t WI & LAU &       NaN\\\\\n\t IL & LHR &  14413.00\\\\\n\t IN & LHR &   9914.00\\\\\n\t MI & LHR &  14083.71\\\\\n\t OH & LHR &  36818.25\\\\\n\t WI & LHR &   6333.00\\\\\n\t IL & LHU &       NaN\\\\\n\t IN & LHU &  20991.00\\\\\n\t MI & LHU &       NaN\\\\\n\t OH & LHU &  61834.00\\\\\n\t WI & LHU &       NaN\\\\\n\\end{tabular}\n",
            "text/plain": "   state category mean_population\n1  IL    AAR        28101.63     \n2  IN    AAR        31549.56     \n3  MI    AAR        28897.14     \n4  OH    AAR        45822.12     \n5  WI    AAR        30043.84     \n6  IL    AAU       551802.92     \n7  IN    AAU       145443.88     \n8  MI    AAU       151249.77     \n9  OH    AAU       247107.82     \n10 WI    AAU       230216.86     \n11 IL    AHR        31538.67     \n12 IN    AHR             NaN     \n13 MI    AHR        27931.00     \n14 OH    AHR        27376.40     \n15 WI    AHR        14181.00     \n16 IL    AHU             NaN     \n17 IN    AHU             NaN     \n18 MI    AHU      2111687.00     \n19 OH    AHU             NaN     \n20 WI    AHU             NaN     \n21 IL    ALR             NaN     \n22 IN    ALR        35859.00     \n23 MI    ALR             NaN     \n24 OH    ALR        34572.60     \n25 WI    ALR        72171.00     \n26 IL    ALU        89798.60     \n27 IN    ALU        49111.75     \n28 MI    ALU       452584.00     \n29 OH    ALU        65664.00     \n30 WI    ALU        69084.00     \n⋮  ⋮     ⋮        ⋮              \n51 IL    HLR       15548.00      \n52 IN    HLR            NaN      \n53 MI    HLR            NaN      \n54 OH    HLR       65536.00      \n55 WI    HLR            NaN      \n56 IL    HLU      318450.67      \n57 IN    HLU       75755.43      \n58 MI    HLU      337499.75      \n59 OH    HLU      121477.75      \n60 WI    HLU      132727.00      \n61 IL    LAR       16760.25      \n62 IN    LAR       19857.15      \n63 MI    LAR       19210.00      \n64 OH    LAR       30394.00      \n65 WI    LAR       23664.50      \n66 IL    LAU       33944.00      \n67 IN    LAU        5315.00      \n68 MI    LAU            NaN      \n69 OH    LAU       34966.00      \n70 WI    LAU            NaN      \n71 IL    LHR       14413.00      \n72 IN    LHR        9914.00      \n73 MI    LHR       14083.71      \n74 OH    LHR       36818.25      \n75 WI    LHR        6333.00      \n76 IL    LHU            NaN      \n77 IN    LHU       20991.00      \n78 MI    LHU            NaN      \n79 OH    LHU       61834.00      \n80 WI    LHU            NaN      "
          },
          "metadata": {}
        }
      ],
      "id": "02a342bd-44be-4344-9f30-af301caf3d58"
    },
    {
      "cell_type": "code",
      "source": "",
      "metadata": {},
      "execution_count": null,
      "outputs": [],
      "id": "a5077452-7fd8-464c-8103-e62ec11416d2"
    }
  ]
}